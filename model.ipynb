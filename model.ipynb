{
 "cells": [
  {
   "cell_type": "code",
   "execution_count": 1,
   "metadata": {},
   "outputs": [
    {
     "name": "stderr",
     "output_type": "stream",
     "text": [
      "Using TensorFlow backend.\n"
     ]
    }
   ],
   "source": [
    "from keras.layers import Conv2D,Dense,Flatten,AveragePooling2D,Dropout\n",
    "from keras.models import Sequential\n",
    "import numpy as np \n",
    "from keras.utils import to_categorical\n",
    "import matplotlib.pyplot as plt\n",
    "from keras.losses import categorical_crossentropy\n",
    "import matplotlib.image as mpimg\n",
    "from sklearn.model_selection import train_test_split\n",
    "imgrow=28\n",
    "imgcols=28\n",
    "imgclass=10"
   ]
  },
  {
   "cell_type": "code",
   "execution_count": 2,
   "metadata": {},
   "outputs": [],
   "source": [
    "def read_data(data):\n",
    "    y=data[:,0]\n",
    "    yout=to_categorical(y,imgclass)\n",
    "    num_iamges=data.shape[0]\n",
    "    x=data[:,1:]\n",
    "    xout=x.reshape(num_iamges,imgrow,imgcols,1)\n",
    "    xout=xout/255\n",
    "    return xout,yout    "
   ]
  },
  {
   "cell_type": "code",
   "execution_count": 3,
   "metadata": {},
   "outputs": [],
   "source": [
    "traindata=np.loadtxt('train.csv',skiprows=1,delimiter=',')\n",
    "x,y=read_data(traindata)"
   ]
  },
  {
   "cell_type": "code",
   "execution_count": 17,
   "metadata": {},
   "outputs": [
    {
     "name": "stdout",
     "output_type": "stream",
     "text": [
      "(37800, 28, 28, 1)\n",
      "(4200, 28, 28, 1)\n"
     ]
    }
   ],
   "source": [
    "X_train, X_test, y_train, y_test = train_test_split(x,y,test_size=0.1)\n",
    "print(X_train.shape)\n",
    "print(X_test.shape)"
   ]
  },
  {
   "cell_type": "code",
   "execution_count": 18,
   "metadata": {},
   "outputs": [
    {
     "name": "stdout",
     "output_type": "stream",
     "text": [
      "(42000, 28, 28, 1)\n",
      "1\n"
     ]
    },
    {
     "data": {
      "image/png": "[encoded data removed]",
      "text/plain": [
       "<matplotlib.figure.Figure at 0x7f884c6312e8>"
      ]
     },
     "metadata": {},
     "output_type": "display_data"
    }
   ],
   "source": [
    "print(x.shape)\n",
    "plt.imshow(x[0,:,:].reshape(28,28))\n",
    "print(np.argmax(y[0]))"
   ]
  },
  {
   "cell_type": "code",
   "execution_count": 59,
   "metadata": {},
   "outputs": [
    {
     "name": "stdout",
     "output_type": "stream",
     "text": [
      "Train on 30240 samples, validate on 7560 samples\n",
      "Epoch 1/5\n",
      "30240/30240 [==============================] - 57s 2ms/step - loss: 0.3157 - acc: 0.9086 - val_loss: 0.0999 - val_acc: 0.9702\n",
      "Epoch 2/5\n",
      "30240/30240 [==============================] - 59s 2ms/step - loss: 0.0841 - acc: 0.9739 - val_loss: 0.0814 - val_acc: 0.9753\n",
      "Epoch 3/5\n",
      "30240/30240 [==============================] - 58s 2ms/step - loss: 0.0541 - acc: 0.9829 - val_loss: 0.0595 - val_acc: 0.9835\n",
      "Epoch 4/5\n",
      "30240/30240 [==============================] - 59s 2ms/step - loss: 0.0404 - acc: 0.9871 - val_loss: 0.0621 - val_acc: 0.9819\n",
      "Epoch 5/5\n",
      "30240/30240 [==============================] - 59s 2ms/step - loss: 0.0279 - acc: 0.9907 - val_loss: 0.0553 - val_acc: 0.9833\n"
     ]
    },
    {
     "data": {
      "text/plain": [
       "<keras.callbacks.History at 0x7f87ecb36ac8>"
      ]
     },
     "execution_count": 59,
     "metadata": {},
     "output_type": "execute_result"
    }
   ],
   "source": [
    "mymodel=Sequential()\n",
    "mymodel.add(Conv2D(30,kernel_size=(3,3),activation='relu',input_shape=(28,28,1),strides=1))\n",
    "mymodel.add(Dropout(0.3))   \n",
    "mymodel.add(Conv2D(12,kernel_size=(3,3),activation='relu'))\n",
    "mymodel.add(Conv2D(12,kernel_size=(3,3),activation='relu'))\n",
    "mymodel.add(Flatten())\n",
    "mymodel.add(Dense(100,activation='relu'))\n",
    "mymodel.add(Dense(10,activation='softmax'))\n",
    "mymodel.compile(loss = categorical_crossentropy,optimizer='adam',metrics=['accuracy'])\n",
    "mymodel.fit(X_train,y_train,batch_size=128,epochs=5,validation_split=0.2)"
   ]
  },
  {
   "cell_type": "code",
   "execution_count": 60,
   "metadata": {},
   "outputs": [
    {
     "name": "stdout",
     "output_type": "stream",
     "text": [
      "9\n",
      "9\n"
     ]
    },
    {
     "data": {
      "image/png": "[encoded data removed]",
      "text/plain": [
       "<matplotlib.figure.Figure at 0x7f87faeae940>"
      ]
     },
     "metadata": {},
     "output_type": "display_data"
    }
   ],
   "source": [
    "i=320\n",
    "preds=mymodel.predict(X_test)[i]\n",
    "print(np.argmax(preds))\n",
    "plt.imshow(X_test[i,:,:].reshape(28,28))\n",
    "print(np.argmax(y_test[i]))"
   ]
  },
  {
   "cell_type": "code",
   "execution_count": 61,
   "metadata": {},
   "outputs": [
    {
     "name": "stdout",
     "output_type": "stream",
     "text": [
      "Actuall: 9 Predicted: 6\n",
      "Actuall: 2 Predicted: 2\n",
      "Actuall: 5 Predicted: 5\n",
      "Actuall: 7 Predicted: 7\n",
      "Actuall: 6 Predicted: 4\n"
     ]
    }
   ],
   "source": [
    "testimgs=['9','2','5','7','6'] ## Manual input \n",
    "for i in testimgs:\n",
    "    xtest=mpimg.imread('testimgs/'+i+'.jpg')\n",
    "    #plt.imshow(xtest/255)\n",
    "    print('Actuall: '+i,end='')\n",
    "    xtest=xtest[:,:,0]\n",
    "    xtest=xtest.reshape(1,28,28,1)\n",
    "    preds=mymodel.predict(xtest/255)\n",
    "    print(' Predicted: ',end='')\n",
    "    print(np.argmax(preds))\n",
    "    #|print(preds)\n",
    "\n"
   ]
  },
  {
   "cell_type": "code",
   "execution_count": null,
   "metadata": {},
   "outputs": [],
   "source": []
  },
  {
   "cell_type": "code",
   "execution_count": null,
   "metadata": {},
   "outputs": [],
   "source": []
  },
  {
   "cell_type": "code",
   "execution_count": null,
   "metadata": {},
   "outputs": [],
   "source": []
  }
 ],
 "metadata": {
  "kernelspec": {
   "display_name": "Python 3",
   "language": "python",
   "name": "python3"
  },
  "language_info": {
   "codemirror_mode": {
    "name": "ipython",
    "version": 3
   },
   "file_extension": ".py",
   "mimetype": "text/x-python",
   "name": "python",
   "nbconvert_exporter": "python",
   "pygments_lexer": "ipython3",
   "version": "3.6.5"
  }
 },
 "nbformat": 4,
 "nbformat_minor": 2
}
