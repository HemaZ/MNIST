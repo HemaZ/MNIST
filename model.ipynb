{
 "cells": [
  {
   "cell_type": "code",
   "execution_count": 1,
   "metadata": {},
   "outputs": [
    {
     "name": "stderr",
     "output_type": "stream",
     "text": [
      "Using TensorFlow backend.\n"
     ]
    }
   ],
   "source": [
    "from keras.layers import Conv2D,Dense,Flatten,AveragePooling2D,Dropout\n",
    "from keras.models import Sequential\n",
    "import numpy as np \n",
    "from keras.utils import to_categorical\n",
    "import matplotlib.pyplot as plt\n",
    "from keras.losses import categorical_crossentropy\n",
    "import matplotlib.image as mpimg\n",
    "from sklearn.model_selection import train_test_split\n",
    "imgrow=28\n",
    "imgcols=28\n",
    "imgclass=10"
   ]
  },
  {
   "cell_type": "code",
   "execution_count": 2,
   "metadata": {},
   "outputs": [],
   "source": [
    "def read_data(data):\n",
    "    y=data[:,0]\n",
    "    yout=to_categorical(y,imgclass)\n",
    "    num_iamges=data.shape[0]\n",
    "    x=data[:,1:]\n",
    "    xout=x.reshape(num_iamges,imgrow,imgcols,1)\n",
    "    xout=xout/255\n",
    "    return xout,yout    "
   ]
  },
  {
   "cell_type": "code",
   "execution_count": 3,
   "metadata": {},
   "outputs": [],
   "source": [
    "traindata=np.loadtxt('train.csv',skiprows=1,delimiter=',')\n",
    "x,y=read_data(traindata)"
   ]
  },
  {
   "cell_type": "code",
   "execution_count": 17,
   "metadata": {},
   "outputs": [
    {
     "name": "stdout",
     "output_type": "stream",
     "text": [
      "(37800, 28, 28, 1)\n",
      "(4200, 28, 28, 1)\n"
     ]
    }
   ],
   "source": [
    "X_train, X_test, y_train, y_test = train_test_split(x,y,test_size=0.1)\n",
    "print(X_train.shape)\n",
    "print(X_test.shape)"
   ]
  },
  {
   "cell_type": "code",
   "execution_count": 18,
   "metadata": {},
   "outputs": [
    {
     "name": "stdout",
     "output_type": "stream",
     "text": [
      "(42000, 28, 28, 1)\n",
      "1\n"
     ]
    },
    {
     "data": {
      "image/png": "[encoded data removed]",
      "text/plain": [
       "<matplotlib.figure.Figure at 0x7f884c6312e8>"
      ]
     },
     "metadata": {},
     "output_type": "display_data"
    }
   ],
   "source": [
    "print(x.shape)\n",
    "plt.imshow(x[0,:,:].reshape(28,28))\n",
    "print(np.argmax(y[0]))"
   ]
  },
  {
   "cell_type": "code",
   "execution_count": 19,
   "metadata": {},
   "outputs": [
    {
     "name": "stdout",
     "output_type": "stream",
     "text": [
      "Train on 30240 samples, validate on 7560 samples\n",
      "Epoch 1/10\n",
      "30240/30240 [==============================] - 8s 264us/step - loss: 0.4825 - acc: 0.8531 - val_loss: 0.1616 - val_acc: 0.9563\n",
      "Epoch 2/10\n",
      "30240/30240 [==============================] - 6s 201us/step - loss: 0.1535 - acc: 0.9537 - val_loss: 0.1114 - val_acc: 0.9680\n",
      "Epoch 3/10\n",
      "30240/30240 [==============================] - 7s 231us/step - loss: 0.1024 - acc: 0.9681 - val_loss: 0.0789 - val_acc: 0.9765\n",
      "Epoch 4/10\n",
      "30240/30240 [==============================] - 7s 231us/step - loss: 0.0816 - acc: 0.9727 - val_loss: 0.0736 - val_acc: 0.9791\n",
      "Epoch 5/10\n",
      "30240/30240 [==============================] - 6s 210us/step - loss: 0.0685 - acc: 0.9774 - val_loss: 0.0689 - val_acc: 0.9819\n",
      "Epoch 6/10\n",
      "30240/30240 [==============================] - 6s 211us/step - loss: 0.0569 - acc: 0.9807 - val_loss: 0.0605 - val_acc: 0.9831\n",
      "Epoch 7/10\n",
      "30240/30240 [==============================] - 7s 221us/step - loss: 0.0504 - acc: 0.9833 - val_loss: 0.0633 - val_acc: 0.9813\n",
      "Epoch 8/10\n",
      "30240/30240 [==============================] - 7s 219us/step - loss: 0.0440 - acc: 0.9856 - val_loss: 0.0505 - val_acc: 0.9837\n",
      "Epoch 9/10\n",
      "30240/30240 [==============================] - 7s 223us/step - loss: 0.0405 - acc: 0.9864 - val_loss: 0.0541 - val_acc: 0.9843\n",
      "Epoch 10/10\n",
      "30240/30240 [==============================] - 7s 226us/step - loss: 0.0355 - acc: 0.9882 - val_loss: 0.0534 - val_acc: 0.9848\n"
     ]
    },
    {
     "data": {
      "text/plain": [
       "<keras.callbacks.History at 0x7f883812cac8>"
      ]
     },
     "execution_count": 19,
     "metadata": {},
     "output_type": "execute_result"
    }
   ],
   "source": [
    "mymodel=Sequential()\n",
    "mymodel.add(Dropout(0.3))\n",
    "mymodel.add(Conv2D(30,kernel_size=(3,3),activation='relu',input_shape=(imgrow,imgcols,1),strides=2))\n",
    "mymodel.add(Conv2D(30,kernel_size=(3,3),activation='relu',strides=2)) \n",
    "mymodel.add(Conv2D(30,kernel_size=(2,2),activation='relu',strides=1))\n",
    "mymodel.add(Flatten())\n",
    "mymodel.add(Dense(128,activation='relu'))\n",
    "mymodel.add(Dense(imgclass,activation='softmax'))\n",
    "\n",
    "mymodel.compile(loss = categorical_crossentropy,optimizer='adam',metrics=['accuracy'])\n",
    "mymodel.fit(X_train,y_train,batch_size=128,epochs=10,validation_split=0.2)"
   ]
  },
  {
   "cell_type": "code",
   "execution_count": 36,
   "metadata": {},
   "outputs": [
    {
     "name": "stdout",
     "output_type": "stream",
     "text": [
      "0\n",
      "0\n"
     ]
    },
    {
     "data": {
      "image/png": "[encoded data removed]",
      "text/plain": [
       "<matplotlib.figure.Figure at 0x7f8808b79278>"
      ]
     },
     "metadata": {},
     "output_type": "display_data"
    }
   ],
   "source": [
    "i=300\n",
    "preds=mymodel.predict(X_test)[i]\n",
    "print(np.argmax(preds))\n",
    "plt.imshow(X_test[i,:,:].reshape(28,28))\n",
    "print(np.argmax(y_test[i]))"
   ]
  },
  {
   "cell_type": "code",
   "execution_count": 20,
   "metadata": {},
   "outputs": [
    {
     "name": "stdout",
     "output_type": "stream",
     "text": [
      "Actuall: 9 Predicted: 6\n",
      "Actuall: 2 Predicted: 2\n",
      "Actuall: 5 Predicted: 5\n",
      "Actuall: 7 Predicted: 2\n"
     ]
    }
   ],
   "source": [
    "testimgs=['9','2','5','7'] ## Manual input \n",
    "for i in testimgs:\n",
    "    xtest=mpimg.imread('testimgs/'+i+'.jpg')\n",
    "    #plt.imshow(xtest/255)\n",
    "    print('Actuall: '+i,end='')\n",
    "    xtest=xtest[:,:,2]\n",
    "    xtest=xtest.reshape(1,28,28,1)\n",
    "    preds=mymodel.predict(xtest/255)\n",
    "    print(' Predicted: ',end='')\n",
    "    print(np.argmax(preds))\n",
    "    #|print(preds)\n",
    "\n"
   ]
  },
  {
   "cell_type": "code",
   "execution_count": null,
   "metadata": {},
   "outputs": [],
   "source": []
  },
  {
   "cell_type": "code",
   "execution_count": null,
   "metadata": {},
   "outputs": [],
   "source": []
  },
  {
   "cell_type": "code",
   "execution_count": null,
   "metadata": {},
   "outputs": [],
   "source": []
  }
 ],
 "metadata": {
  "kernelspec": {
   "display_name": "Python 3",
   "language": "python",
   "name": "python3"
  },
  "language_info": {
   "codemirror_mode": {
    "name": "ipython",
    "version": 3
   },
   "file_extension": ".py",
   "mimetype": "text/x-python",
   "name": "python",
   "nbconvert_exporter": "python",
   "pygments_lexer": "ipython3",
   "version": "3.6.5"
  }
 },
 "nbformat": 4,
 "nbformat_minor": 2
}
